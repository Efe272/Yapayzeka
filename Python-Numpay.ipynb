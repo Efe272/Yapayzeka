{
  "nbformat": 4,
  "nbformat_minor": 0,
  "metadata": {
    "colab": {
      "provenance": [],
      "authorship_tag": "ABX9TyOOg2olIeh2R+9LKUA2gHd4",
      "include_colab_link": true
    },
    "kernelspec": {
      "name": "python3",
      "display_name": "Python 3"
    },
    "language_info": {
      "name": "python"
    }
  },
  "cells": [
    {
      "cell_type": "markdown",
      "metadata": {
        "id": "view-in-github",
        "colab_type": "text"
      },
      "source": [
        "<a href=\"https://colab.research.google.com/github/Efe272/Yapayzeka/blob/main/Python-Numpay.ipynb\" target=\"_parent\"><img src=\"https://colab.research.google.com/assets/colab-badge.svg\" alt=\"Open In Colab\"/></a>"
      ]
    },
    {
      "cell_type": "code",
      "execution_count": 1,
      "metadata": {
        "id": "kzyTwlRBFPeb"
      },
      "outputs": [],
      "source": [
        "import numpy as np\n"
      ]
    },
    {
      "cell_type": "markdown",
      "source": [
        "# 1) (10,15,30,45,60) değerlerine sahip numpy dizisi oluştur."
      ],
      "metadata": {
        "id": "5uC59ECKHTdF"
      }
    },
    {
      "cell_type": "code",
      "source": [
        "result=np.array([10,15,30,45,60])\n",
        "result"
      ],
      "metadata": {
        "colab": {
          "base_uri": "https://localhost:8080/"
        },
        "id": "RVpt3sQ3HUe9",
        "outputId": "eb3fedfc-bae9-44b5-a27b-ede9aef137c5"
      },
      "execution_count": 4,
      "outputs": [
        {
          "output_type": "execute_result",
          "data": {
            "text/plain": [
              "array([10, 15, 30, 45, 60])"
            ]
          },
          "metadata": {},
          "execution_count": 4
        }
      ]
    },
    {
      "cell_type": "markdown",
      "source": [
        "#2) 5-15 arasındaki sayılarla bir dizi oluştur."
      ],
      "metadata": {
        "id": "-PiQAyuDH5ac"
      }
    },
    {
      "cell_type": "code",
      "source": [
        "result=np.arange(5,15)\n",
        "result\n"
      ],
      "metadata": {
        "colab": {
          "base_uri": "https://localhost:8080/"
        },
        "id": "7vA6zUMtH8aW",
        "outputId": "b99c6e71-e7bf-4922-a905-b29d21920519"
      },
      "execution_count": 7,
      "outputs": [
        {
          "output_type": "execute_result",
          "data": {
            "text/plain": [
              "array([ 5,  6,  7,  8,  9, 10, 11, 12, 13, 14])"
            ]
          },
          "metadata": {},
          "execution_count": 7
        }
      ]
    },
    {
      "cell_type": "markdown",
      "source": [
        "#3)(50-100 arasında 5 er 5 er bir dizi oluştur.\n"
      ],
      "metadata": {
        "id": "LsC9kH-nIXR9"
      }
    },
    {
      "cell_type": "code",
      "source": [
        "result=np.arange(50,100,5)\n",
        "result"
      ],
      "metadata": {
        "colab": {
          "base_uri": "https://localhost:8080/"
        },
        "id": "mruFjfL5IfYG",
        "outputId": "42f3bda0-cdd8-43ab-ec71-1a8044d66b22"
      },
      "execution_count": 8,
      "outputs": [
        {
          "output_type": "execute_result",
          "data": {
            "text/plain": [
              "array([50, 55, 60, 65, 70, 75, 80, 85, 90, 95])"
            ]
          },
          "metadata": {},
          "execution_count": 8
        }
      ]
    },
    {
      "cell_type": "markdown",
      "source": [
        "#4)(10- elemanlı sıfırdan oluşan bir dizi oluşturunuz.\n"
      ],
      "metadata": {
        "id": "Lxdb9QNHIoc7"
      }
    },
    {
      "cell_type": "code",
      "source": [
        "result=np.zeros(10)\n",
        "result"
      ],
      "metadata": {
        "colab": {
          "base_uri": "https://localhost:8080/"
        },
        "id": "Am4IgODwJtG0",
        "outputId": "a9580318-166a-49d8-e672-3866122ae8dc"
      },
      "execution_count": 10,
      "outputs": [
        {
          "output_type": "execute_result",
          "data": {
            "text/plain": [
              "array([0., 0., 0., 0., 0., 0., 0., 0., 0., 0.])"
            ]
          },
          "metadata": {},
          "execution_count": 10
        }
      ]
    },
    {
      "cell_type": "markdown",
      "source": [
        "#5 (10-elemanlı birlerden oluşan bir dizi oluşturunuz.\n"
      ],
      "metadata": {
        "id": "o-GCOw-nKOGs"
      }
    },
    {
      "cell_type": "code",
      "source": [
        "result=np.ones(10)\n",
        "result"
      ],
      "metadata": {
        "colab": {
          "base_uri": "https://localhost:8080/"
        },
        "id": "ZJP9XaXZKZcd",
        "outputId": "01e4b113-a40d-4684-d94b-db123022b688"
      },
      "execution_count": 11,
      "outputs": [
        {
          "output_type": "execute_result",
          "data": {
            "text/plain": [
              "array([1., 1., 1., 1., 1., 1., 1., 1., 1., 1.])"
            ]
          },
          "metadata": {},
          "execution_count": 11
        }
      ]
    },
    {
      "cell_type": "markdown",
      "source": [
        "#6 (0-100 arasında eşit aralıklı 5 sayı üretin"
      ],
      "metadata": {
        "id": "gCXAzHD7KfET"
      }
    },
    {
      "cell_type": "code",
      "source": [
        "result=np.linspace(0,100,5)\n",
        "result"
      ],
      "metadata": {
        "colab": {
          "base_uri": "https://localhost:8080/"
        },
        "id": "7ahMv_-PKr2c",
        "outputId": "eb4a6551-034b-450e-d731-ce5cc08db94b"
      },
      "execution_count": 12,
      "outputs": [
        {
          "output_type": "execute_result",
          "data": {
            "text/plain": [
              "array([  0.,  25.,  50.,  75., 100.])"
            ]
          },
          "metadata": {},
          "execution_count": 12
        }
      ]
    },
    {
      "cell_type": "markdown",
      "source": [
        "#7 (10-30 arasında rastgele 5 tane tamsayı üretin"
      ],
      "metadata": {
        "id": "LzChmg4MK1rk"
      }
    },
    {
      "cell_type": "code",
      "source": [
        "result=np.random.randint(10,30,5)\n",
        "result"
      ],
      "metadata": {
        "colab": {
          "base_uri": "https://localhost:8080/"
        },
        "id": "jNWOD2uRLC7U",
        "outputId": "d450dcf5-5ddc-4193-bb1b-8835711f0c8b"
      },
      "execution_count": 13,
      "outputs": [
        {
          "output_type": "execute_result",
          "data": {
            "text/plain": [
              "array([24, 24, 21, 11, 27])"
            ]
          },
          "metadata": {},
          "execution_count": 13
        }
      ]
    },
    {
      "cell_type": "markdown",
      "source": [
        "#8 ([-1 ile 1 ]arasında 10 adet sayı üretin.\n"
      ],
      "metadata": {
        "id": "6UgwycuyLU5k"
      }
    },
    {
      "cell_type": "code",
      "source": [
        "result=np.random.randn(10)\n",
        "result"
      ],
      "metadata": {
        "colab": {
          "base_uri": "https://localhost:8080/"
        },
        "id": "-GqCbK8RLx_e",
        "outputId": "44c15ab7-c7b4-4e08-e530-9e66b5f904be"
      },
      "execution_count": 14,
      "outputs": [
        {
          "output_type": "execute_result",
          "data": {
            "text/plain": [
              "array([ 2.21771727, -0.39456538,  0.05741656,  1.1100746 ,  1.7317899 ,\n",
              "        0.42491241, -0.46703848, -0.18880169, -0.52536293, -0.70335551])"
            ]
          },
          "metadata": {},
          "execution_count": 14
        }
      ]
    },
    {
      "cell_type": "markdown",
      "source": [
        "#9(3*5 boyutlarında (10-50) arasında rastgele bir matris oluşturunuz."
      ],
      "metadata": {
        "id": "YHFXTNLiMAKT"
      }
    },
    {
      "cell_type": "code",
      "source": [
        "result=np.random.randint(10,50,15).reshape(3,5)\n",
        "result"
      ],
      "metadata": {
        "colab": {
          "base_uri": "https://localhost:8080/"
        },
        "id": "RROmU_lkMQ2b",
        "outputId": "14e2561d-57f9-4d39-e255-c3c28a7713a7"
      },
      "execution_count": 15,
      "outputs": [
        {
          "output_type": "execute_result",
          "data": {
            "text/plain": [
              "array([[12, 45, 20, 27, 22],\n",
              "       [44, 40, 13, 49, 14],\n",
              "       [49, 44, 24, 44, 37]])"
            ]
          },
          "metadata": {},
          "execution_count": 15
        }
      ]
    },
    {
      "cell_type": "markdown",
      "source": [
        "#10 (üretilen matrisin  satır ve sütun sayıları toplamlarını hesaplayınız ?"
      ],
      "metadata": {
        "id": "00rL7Z3iMmE7"
      }
    },
    {
      "cell_type": "code",
      "source": [
        "matris = np.random.randint(10,50,15).reshape(3,5)\n",
        "rowTotal = matris.sum(axis =1)\n",
        "colTotal = matris.sum(axis = 0)\n",
        "print(rowTotal)\n",
        "print(colTotal)"
      ],
      "metadata": {
        "colab": {
          "base_uri": "https://localhost:8080/"
        },
        "id": "FR4ES0SwM4ed",
        "outputId": "e63bf5c5-ad20-4fa3-f46b-45a62e7b526c"
      },
      "execution_count": 16,
      "outputs": [
        {
          "output_type": "stream",
          "name": "stdout",
          "text": [
            "[130 155 146]\n",
            "[103  68  63  93 104]\n"
          ]
        }
      ]
    },
    {
      "cell_type": "markdown",
      "source": [
        "#11 ( Üretilen matrisin en büyük,en küçük ve ortalaması nedir ?)"
      ],
      "metadata": {
        "id": "2NcyXAvkNbRE"
      }
    },
    {
      "cell_type": "code",
      "source": [
        "result = matris.max()\n",
        "result = matris.min()\n",
        "result = matris.mean()\n",
        "result"
      ],
      "metadata": {
        "colab": {
          "base_uri": "https://localhost:8080/"
        },
        "id": "mA2eJgOcNmt1",
        "outputId": "0a56d40e-91be-4b84-9f6d-dd27fc9c246e"
      },
      "execution_count": 17,
      "outputs": [
        {
          "output_type": "execute_result",
          "data": {
            "text/plain": [
              "28.733333333333334"
            ]
          },
          "metadata": {},
          "execution_count": 17
        }
      ]
    },
    {
      "cell_type": "markdown",
      "source": [
        "#12(Üretilen matrisin en büyük değerinin indeksi kaçtır ?)"
      ],
      "metadata": {
        "id": "oobrzQxpN0or"
      }
    },
    {
      "cell_type": "code",
      "source": [
        "result = matris.argmax()\n",
        "result = matris.argmin()\n",
        "result"
      ],
      "metadata": {
        "colab": {
          "base_uri": "https://localhost:8080/"
        },
        "id": "nr4dpZaZN6wc",
        "outputId": "84e3e4b9-a031-4d64-e0fe-a7ca29a251ae"
      },
      "execution_count": 18,
      "outputs": [
        {
          "output_type": "execute_result",
          "data": {
            "text/plain": [
              "11"
            ]
          },
          "metadata": {},
          "execution_count": 18
        }
      ]
    },
    {
      "cell_type": "markdown",
      "source": [
        "#13 (10-20 arasındaki sayıları içeren dizinin ilk 3 elemanını seçiniz"
      ],
      "metadata": {
        "id": "kMXLsgO3OKkE"
      }
    },
    {
      "cell_type": "code",
      "source": [
        "arr= np.arange (10,20)\n",
        "print(arr)\n",
        "resılt =arr[0:]\n",
        "result"
      ],
      "metadata": {
        "colab": {
          "base_uri": "https://localhost:8080/"
        },
        "id": "ka7b1EdzOSmU",
        "outputId": "a7889b09-3c38-43cd-e656-f7d1524c5313"
      },
      "execution_count": 19,
      "outputs": [
        {
          "output_type": "stream",
          "name": "stdout",
          "text": [
            "[10 11 12 13 14 15 16 17 18 19]\n"
          ]
        },
        {
          "output_type": "execute_result",
          "data": {
            "text/plain": [
              "11"
            ]
          },
          "metadata": {},
          "execution_count": 19
        }
      ]
    },
    {
      "cell_type": "markdown",
      "source": [
        "#14 (Üretilen dizinin elemanlarını tersten yazdırın.)"
      ],
      "metadata": {
        "id": "4aVxcMm2OfzD"
      }
    },
    {
      "cell_type": "code",
      "source": [
        "result=arr[::]\n",
        "result"
      ],
      "metadata": {
        "colab": {
          "base_uri": "https://localhost:8080/"
        },
        "id": "MwrkwweNOnU1",
        "outputId": "fa1e4a67-0a91-4cac-e696-21a4e689791f"
      },
      "execution_count": 20,
      "outputs": [
        {
          "output_type": "execute_result",
          "data": {
            "text/plain": [
              "array([10, 11, 12, 13, 14, 15, 16, 17, 18, 19])"
            ]
          },
          "metadata": {},
          "execution_count": 20
        }
      ]
    },
    {
      "cell_type": "markdown",
      "source": [
        "#15(üretilen dizinin elemanlarını tersten yazdırın)"
      ],
      "metadata": {
        "id": "wAaeC3F6Ot49"
      }
    },
    {
      "cell_type": "code",
      "source": [
        "result=matris[0]\n",
        "result"
      ],
      "metadata": {
        "colab": {
          "base_uri": "https://localhost:8080/"
        },
        "id": "nElEo8LzO2vs",
        "outputId": "6a7405ea-58c5-4784-f6a4-ce64a62b6684"
      },
      "execution_count": 21,
      "outputs": [
        {
          "output_type": "execute_result",
          "data": {
            "text/plain": [
              "array([27, 18, 21, 29, 35])"
            ]
          },
          "metadata": {},
          "execution_count": 21
        }
      ]
    },
    {
      "cell_type": "markdown",
      "source": [
        "#16(Üretilen matrisin 2.satır 3.sütundaki elemanı hangisidir?"
      ],
      "metadata": {
        "id": "Gx1Er1bMO9h8"
      }
    },
    {
      "cell_type": "code",
      "source": [
        "result = matris[1,2]\n",
        "result"
      ],
      "metadata": {
        "colab": {
          "base_uri": "https://localhost:8080/"
        },
        "id": "aTOFhXJEPErM",
        "outputId": "ff809d55-6a78-4688-cf81-5af743afc876"
      },
      "execution_count": 22,
      "outputs": [
        {
          "output_type": "execute_result",
          "data": {
            "text/plain": [
              "13"
            ]
          },
          "metadata": {},
          "execution_count": 22
        }
      ]
    },
    {
      "cell_type": "markdown",
      "source": [
        "#17(üretilen matrisin tüm satırlardaki ilk elemanı seçiniz)"
      ],
      "metadata": {
        "id": "LGrr4R6yPSOc"
      }
    },
    {
      "cell_type": "code",
      "source": [
        "result = matris[:,1]"
      ],
      "metadata": {
        "id": "ZuitXiRePTxc"
      },
      "execution_count": 23,
      "outputs": []
    },
    {
      "cell_type": "markdown",
      "source": [
        "#18(üretilen matrisin her bir elemanının karesini alınız"
      ],
      "metadata": {
        "id": "NgB4p6VZPbYd"
      }
    },
    {
      "cell_type": "code",
      "source": [
        "result = matris**2"
      ],
      "metadata": {
        "id": "KLZw7op0PiHk"
      },
      "execution_count": 24,
      "outputs": []
    },
    {
      "cell_type": "markdown",
      "source": [
        "#19 üretilen matris elemanlarının hangisi pozitif çift sayıdır? aralığı (-50,+50) arasında yapınız."
      ],
      "metadata": {
        "id": "XQXL5JRnPpN8"
      }
    },
    {
      "cell_type": "code",
      "source": [
        "result = matris[matris %2==0]\n",
        "print(result)"
      ],
      "metadata": {
        "colab": {
          "base_uri": "https://localhost:8080/"
        },
        "id": "BHuY4HQ4PzzF",
        "outputId": "e87136b0-b4ce-47a7-d926-dc3bb515e148"
      },
      "execution_count": 25,
      "outputs": [
        {
          "output_type": "stream",
          "name": "stdout",
          "text": [
            "[18 36 40 40 10 28]\n"
          ]
        }
      ]
    }
  ]
}